{
  "nbformat": 4,
  "nbformat_minor": 0,
  "metadata": {
    "colab": {
      "provenance": []
    },
    "kernelspec": {
      "name": "python3",
      "display_name": "Python 3"
    },
    "language_info": {
      "name": "python"
    }
  },
  "cells": [
    {
      "cell_type": "code",
      "execution_count": null,
      "metadata": {
        "colab": {
          "base_uri": "https://localhost:8080/"
        },
        "id": "7GVz2gOTPKtF",
        "outputId": "00a7a9c7-438d-46cf-b7f9-76e60787c94c"
      },
      "outputs": [
        {
          "output_type": "stream",
          "name": "stdout",
          "text": [
            "--2024-04-07 16:06:46--  https://raw.githubusercontent.com/hyounesy/TFPlaygroundPSA/master/data/tiny/gauss_25/input.txt\n",
            "Resolving raw.githubusercontent.com (raw.githubusercontent.com)... 185.199.109.133, 185.199.108.133, 185.199.110.133, ...\n",
            "Connecting to raw.githubusercontent.com (raw.githubusercontent.com)|185.199.109.133|:443... connected.\n",
            "HTTP request sent, awaiting response... 200 OK\n",
            "Length: 21888 (21K) [text/plain]\n",
            "Saving to: ‘gauss.txt’\n",
            "\n",
            "\rgauss.txt             0%[                    ]       0  --.-KB/s               \rgauss.txt           100%[===================>]  21.38K  --.-KB/s    in 0.002s  \n",
            "\n",
            "2024-04-07 16:06:46 (13.6 MB/s) - ‘gauss.txt’ saved [21888/21888]\n",
            "\n",
            "--2024-04-07 16:06:46--  https://raw.githubusercontent.com/hyounesy/TFPlaygroundPSA/master/data/tiny/circle_25/input.txt\n",
            "Resolving raw.githubusercontent.com (raw.githubusercontent.com)... 185.199.109.133, 185.199.108.133, 185.199.111.133, ...\n",
            "Connecting to raw.githubusercontent.com (raw.githubusercontent.com)|185.199.109.133|:443... connected.\n",
            "HTTP request sent, awaiting response... 200 OK\n",
            "Length: 22209 (22K) [text/plain]\n",
            "Saving to: ‘radial.txt’\n",
            "\n",
            "radial.txt          100%[===================>]  21.69K  --.-KB/s    in 0.002s  \n",
            "\n",
            "2024-04-07 16:06:46 (13.3 MB/s) - ‘radial.txt’ saved [22209/22209]\n",
            "\n",
            "--2024-04-07 16:06:46--  https://raw.githubusercontent.com/hyounesy/TFPlaygroundPSA/master/data/tiny/xor_25/input.txt\n",
            "Resolving raw.githubusercontent.com (raw.githubusercontent.com)... 185.199.109.133, 185.199.111.133, 185.199.110.133, ...\n",
            "Connecting to raw.githubusercontent.com (raw.githubusercontent.com)|185.199.109.133|:443... connected.\n",
            "HTTP request sent, awaiting response... 200 OK\n",
            "Length: 21753 (21K) [text/plain]\n",
            "Saving to: ‘xor.txt’\n",
            "\n",
            "xor.txt             100%[===================>]  21.24K  --.-KB/s    in 0.002s  \n",
            "\n",
            "2024-04-07 16:06:46 (12.9 MB/s) - ‘xor.txt’ saved [21753/21753]\n",
            "\n",
            "--2024-04-07 16:06:46--  https://raw.githubusercontent.com/hyounesy/TFPlaygroundPSA/master/data/tiny/spiral_25/input.txt\n",
            "Resolving raw.githubusercontent.com (raw.githubusercontent.com)... 185.199.108.133, 185.199.109.133, 185.199.110.133, ...\n",
            "Connecting to raw.githubusercontent.com (raw.githubusercontent.com)|185.199.108.133|:443... connected.\n",
            "HTTP request sent, awaiting response... 200 OK\n",
            "Length: 22191 (22K) [text/plain]\n",
            "Saving to: ‘spiral.txt’\n",
            "\n",
            "spiral.txt          100%[===================>]  21.67K  --.-KB/s    in 0.002s  \n",
            "\n",
            "2024-04-07 16:06:46 (13.8 MB/s) - ‘spiral.txt’ saved [22191/22191]\n",
            "\n"
          ]
        }
      ],
      "source": [
        "# Descargamos los datos\n",
        "\n",
        "# Gauseano\n",
        "!wget -O gauss.txt https://raw.githubusercontent.com/hyounesy/TFPlaygroundPSA/master/data/tiny/gauss_25/input.txt\n",
        "\n",
        "# Circular\n",
        "!wget -O radial.txt https://raw.githubusercontent.com/hyounesy/TFPlaygroundPSA/master/data/tiny/circle_25/input.txt\n",
        "\n",
        "# XOR\n",
        "!wget -O xor.txt https://raw.githubusercontent.com/hyounesy/TFPlaygroundPSA/master/data/tiny/xor_25/input.txt\n",
        "\n",
        "# Espiral\n",
        "!wget -O spiral.txt https://raw.githubusercontent.com/hyounesy/TFPlaygroundPSA/master/data/tiny/spiral_25/input.txt"
      ]
    },
    {
      "cell_type": "code",
      "source": [
        "# prompt: plot the columns X1, X2 based on the label\n",
        "\n",
        "import matplotlib.pyplot as plt\n",
        "def plot_by_label(X, y):\n",
        "  \"\"\"\n",
        "    Plotea los puntos de datos en función de la etiqueta\n",
        "  \"\"\"\n",
        "  plt.figure()\n",
        "  for label in set(y):\n",
        "    idx = y == label\n",
        "    plt.scatter(X.loc[idx, 'X1'], X.loc[idx, 'X2'], label=label)\n",
        "  plt.xlabel('X1')\n",
        "  plt.ylabel('X2')\n",
        "  plt.legend()\n",
        "  plt.show()"
      ],
      "metadata": {
        "id": "1IlXdCxUSiLT"
      },
      "execution_count": null,
      "outputs": []
    },
    {
      "cell_type": "code",
      "source": [
        "import pandas as pd\n",
        "from sklearn.model_selection import train_test_split\n",
        "\n",
        "def get_data(file: str):\n",
        "  \"\"\"\n",
        "    Retorna el conjunto de tests y entrenamiento dado el nombre del archivo\n",
        "  \"\"\"\n",
        "  df = pd.read_csv(file, sep='\\t')\n",
        "  X = df[['X1', 'X2']]\n",
        "  y = df['label'].apply(lambda x: 0 if x == -1 else 1)\n",
        "  plot_by_label(X, y)\n",
        "\n",
        "  X_train, X_test, y_train, y_test = train_test_split(X, y, test_size=0.1, random_state=42)\n",
        "\n",
        "  return X_train, X_test, y_train, y_test"
      ],
      "metadata": {
        "id": "chCJjqqnQcqS"
      },
      "execution_count": null,
      "outputs": []
    },
    {
      "cell_type": "code",
      "source": [
        "X_train, X_test, y_train, y_test = get_data('xor.txt')"
      ],
      "metadata": {
        "colab": {
          "base_uri": "https://localhost:8080/",
          "height": 449
        },
        "id": "MfJ-86fSRgNh",
        "outputId": "549346af-94b1-4fd4-fbd3-7dcb7944d39d"
      },
      "execution_count": null,
      "outputs": [
        {
          "output_type": "display_data",
          "data": {
            "text/plain": [
              "<Figure size 640x480 with 1 Axes>"
            ],
            "image/png": "[encoded data removed]"
          },
          "metadata": {}
        }
      ]
    }
  ]
}